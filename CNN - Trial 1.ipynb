{
 "cells": [
  {
   "cell_type": "code",
   "execution_count": 1,
   "id": "b7ac436b",
   "metadata": {},
   "outputs": [],
   "source": [
    "import numpy as np\n",
    "import pandas as pd\n",
    "%matplotlib inline\n",
    "import matplotlib as mpl\n",
    "import matplotlib.pyplot as plt"
   ]
  },
  {
   "cell_type": "code",
   "execution_count": 2,
   "id": "e05599cd",
   "metadata": {},
   "outputs": [],
   "source": [
    "import tensorflow as tf\n",
    "from tensorflow import keras"
   ]
  },
  {
   "cell_type": "code",
   "execution_count": 3,
   "id": "180b6975",
   "metadata": {},
   "outputs": [],
   "source": [
    "fashion_mnist = keras.datasets.fashion_mnist\n",
    "(X_train_full, y_train_full), (X_test, y_test) = fashion_mnist.load_data()"
   ]
  },
  {
   "cell_type": "code",
   "execution_count": 4,
   "id": "67203c0c",
   "metadata": {},
   "outputs": [],
   "source": [
    "class_names = [\"T-shirt/top\", \"Trouser\", \"Pullover\", \"Dress\", \"Coat\",\n",
    "               \"Sandal\", \"Shirt\", \"Sneaker\", \"Bag\", \"Ankle boot\"]"
   ]
  },
  {
   "cell_type": "code",
   "execution_count": 5,
   "id": "783fb7a4",
   "metadata": {},
   "outputs": [],
   "source": [
    "X_train_full = X_train_full.reshape((60000, 28, 28, 1))\n",
    "X_test = X_test.reshape((10000, 28, 28, 1))"
   ]
  },
  {
   "cell_type": "code",
   "execution_count": 6,
   "id": "e75fbc6a",
   "metadata": {},
   "outputs": [],
   "source": [
    "X_train_n = X_train_full / 255.\n",
    "X_test_n = X_test / 255."
   ]
  },
  {
   "cell_type": "code",
   "execution_count": 7,
   "id": "4cc74bb1",
   "metadata": {},
   "outputs": [],
   "source": [
    "X_valid, X_train = X_train_n[:5000], X_train_n[5000:]\n",
    "y_valid, y_train = y_train_full[:5000], y_train_full[5000:]\n",
    "X_test = X_test_n"
   ]
  },
  {
   "cell_type": "code",
   "execution_count": 8,
   "id": "2f694587",
   "metadata": {},
   "outputs": [],
   "source": [
    "np.random.seed(42)\n",
    "tf.random.set_seed(42)"
   ]
  },
  {
   "cell_type": "code",
   "execution_count": 9,
   "id": "a6c9b466",
   "metadata": {},
   "outputs": [],
   "source": [
    "model = keras.models.Sequential()\n",
    "model.add(keras.layers.Conv2D(filters = 32, kernel_size = (3, 3), strides=1, padding='valid', activation='relu', input_shape=(28, 28, 1)))\n",
    "model.add(keras.layers.MaxPooling2D((2, 2)))\n",
    "\n",
    "model.add(keras.layers.Flatten())\n",
    "model.add(keras.layers.Dense(300, activation=\"relu\"))\n",
    "model.add(keras.layers.Dense(100, activation=\"relu\"))\n",
    "model.add(keras.layers.Dense(10, activation=\"softmax\"))\n"
   ]
  },
  {
   "cell_type": "code",
   "execution_count": 10,
   "id": "a89371c0",
   "metadata": {},
   "outputs": [
    {
     "name": "stdout",
     "output_type": "stream",
     "text": [
      "Model: \"sequential\"\n",
      "_________________________________________________________________\n",
      "Layer (type)                 Output Shape              Param #   \n",
      "=================================================================\n",
      "conv2d (Conv2D)              (None, 26, 26, 32)        320       \n",
      "_________________________________________________________________\n",
      "max_pooling2d (MaxPooling2D) (None, 13, 13, 32)        0         \n",
      "_________________________________________________________________\n",
      "flatten (Flatten)            (None, 5408)              0         \n",
      "_________________________________________________________________\n",
      "dense (Dense)                (None, 300)               1622700   \n",
      "_________________________________________________________________\n",
      "dense_1 (Dense)              (None, 100)               30100     \n",
      "_________________________________________________________________\n",
      "dense_2 (Dense)              (None, 10)                1010      \n",
      "=================================================================\n",
      "Total params: 1,654,130\n",
      "Trainable params: 1,654,130\n",
      "Non-trainable params: 0\n",
      "_________________________________________________________________\n"
     ]
    }
   ],
   "source": [
    "model.summary()"
   ]
  },
  {
   "cell_type": "code",
   "execution_count": 11,
   "id": "ecaf0ffe",
   "metadata": {},
   "outputs": [],
   "source": [
    "model.compile(loss=\"sparse_categorical_crossentropy\",\n",
    "              optimizer=\"sgd\",\n",
    "              metrics=[\"accuracy\"])"
   ]
  },
  {
   "cell_type": "code",
   "execution_count": 13,
   "id": "3663bcfa",
   "metadata": {},
   "outputs": [
    {
     "name": "stdout",
     "output_type": "stream",
     "text": [
      "Epoch 1/30\n",
      "860/860 [==============================] - 20s 23ms/step - loss: 0.8767 - accuracy: 0.6992 - val_loss: 0.7489 - val_accuracy: 0.7368\n",
      "Epoch 2/30\n",
      "860/860 [==============================] - 19s 23ms/step - loss: 0.5386 - accuracy: 0.8051 - val_loss: 0.4915 - val_accuracy: 0.8186\n",
      "Epoch 3/30\n",
      "860/860 [==============================] - 19s 23ms/step - loss: 0.4805 - accuracy: 0.8259 - val_loss: 0.9241 - val_accuracy: 0.7080\n",
      "Epoch 4/30\n",
      "860/860 [==============================] - 20s 23ms/step - loss: 0.4432 - accuracy: 0.8421 - val_loss: 0.4148 - val_accuracy: 0.8562\n",
      "Epoch 5/30\n",
      "860/860 [==============================] - 20s 24ms/step - loss: 0.4192 - accuracy: 0.8504 - val_loss: 0.4368 - val_accuracy: 0.8466\n",
      "Epoch 6/30\n",
      "860/860 [==============================] - 20s 23ms/step - loss: 0.3953 - accuracy: 0.8587 - val_loss: 0.3770 - val_accuracy: 0.8698\n",
      "Epoch 7/30\n",
      "860/860 [==============================] - 20s 24ms/step - loss: 0.3776 - accuracy: 0.8656 - val_loss: 0.4044 - val_accuracy: 0.8570\n",
      "Epoch 8/30\n",
      "860/860 [==============================] - 23s 27ms/step - loss: 0.3627 - accuracy: 0.8693 - val_loss: 0.5158 - val_accuracy: 0.8086\n",
      "Epoch 9/30\n",
      "860/860 [==============================] - 24s 28ms/step - loss: 0.3485 - accuracy: 0.8745 - val_loss: 0.3708 - val_accuracy: 0.8680\n",
      "Epoch 10/30\n",
      "860/860 [==============================] - 24s 28ms/step - loss: 0.3365 - accuracy: 0.8786 - val_loss: 0.3863 - val_accuracy: 0.8582\n",
      "Epoch 11/30\n",
      "860/860 [==============================] - 25s 29ms/step - loss: 0.3242 - accuracy: 0.8824 - val_loss: 0.3454 - val_accuracy: 0.8748\n",
      "Epoch 12/30\n",
      "860/860 [==============================] - 25s 29ms/step - loss: 0.3132 - accuracy: 0.8862 - val_loss: 0.3227 - val_accuracy: 0.8872\n",
      "Epoch 13/30\n",
      "860/860 [==============================] - 25s 29ms/step - loss: 0.3060 - accuracy: 0.8889 - val_loss: 0.3289 - val_accuracy: 0.8882\n",
      "Epoch 14/30\n",
      "860/860 [==============================] - 25s 29ms/step - loss: 0.2975 - accuracy: 0.8913 - val_loss: 0.3984 - val_accuracy: 0.8508\n",
      "Epoch 15/30\n",
      "860/860 [==============================] - 25s 29ms/step - loss: 0.2895 - accuracy: 0.8951 - val_loss: 0.3814 - val_accuracy: 0.8634\n",
      "Epoch 16/30\n",
      "860/860 [==============================] - 25s 29ms/step - loss: 0.2830 - accuracy: 0.8973 - val_loss: 0.2956 - val_accuracy: 0.8956\n",
      "Epoch 17/30\n",
      "860/860 [==============================] - 26s 31ms/step - loss: 0.2756 - accuracy: 0.8999 - val_loss: 0.3999 - val_accuracy: 0.8616\n",
      "Epoch 18/30\n",
      "860/860 [==============================] - 25s 29ms/step - loss: 0.2699 - accuracy: 0.9013 - val_loss: 0.3522 - val_accuracy: 0.8746\n",
      "Epoch 19/30\n",
      "860/860 [==============================] - 24s 28ms/step - loss: 0.2640 - accuracy: 0.9034 - val_loss: 0.3024 - val_accuracy: 0.8918\n",
      "Epoch 20/30\n",
      "860/860 [==============================] - 25s 29ms/step - loss: 0.2584 - accuracy: 0.9054 - val_loss: 0.3197 - val_accuracy: 0.8854\n",
      "Epoch 21/30\n",
      "860/860 [==============================] - 24s 28ms/step - loss: 0.2525 - accuracy: 0.9085 - val_loss: 0.2815 - val_accuracy: 0.9004\n",
      "Epoch 22/30\n",
      "860/860 [==============================] - 25s 29ms/step - loss: 0.2471 - accuracy: 0.9098 - val_loss: 0.2819 - val_accuracy: 0.8980\n",
      "Epoch 23/30\n",
      "860/860 [==============================] - 25s 29ms/step - loss: 0.2419 - accuracy: 0.9106 - val_loss: 0.2795 - val_accuracy: 0.9036\n",
      "Epoch 24/30\n",
      "860/860 [==============================] - 25s 29ms/step - loss: 0.2371 - accuracy: 0.9134 - val_loss: 0.2990 - val_accuracy: 0.8904\n",
      "Epoch 25/30\n",
      "860/860 [==============================] - 25s 29ms/step - loss: 0.2325 - accuracy: 0.9153 - val_loss: 0.2872 - val_accuracy: 0.8980\n",
      "Epoch 26/30\n",
      "860/860 [==============================] - 25s 30ms/step - loss: 0.2288 - accuracy: 0.9160 - val_loss: 0.2791 - val_accuracy: 0.9032\n",
      "Epoch 27/30\n",
      "860/860 [==============================] - 24s 28ms/step - loss: 0.2243 - accuracy: 0.9184 - val_loss: 0.2699 - val_accuracy: 0.9032\n",
      "Epoch 28/30\n",
      "860/860 [==============================] - 26s 31ms/step - loss: 0.2199 - accuracy: 0.9189 - val_loss: 0.3023 - val_accuracy: 0.8932\n",
      "Epoch 29/30\n",
      "860/860 [==============================] - 27s 31ms/step - loss: 0.2147 - accuracy: 0.9213 - val_loss: 0.2696 - val_accuracy: 0.9024\n",
      "Epoch 30/30\n",
      "860/860 [==============================] - 24s 28ms/step - loss: 0.2121 - accuracy: 0.9218 - val_loss: 0.2709 - val_accuracy: 0.9048\n"
     ]
    }
   ],
   "source": [
    "model_history = model.fit(X_train, y_train, epochs=30,batch_size= 64,\n",
    "                    validation_data=(X_valid, y_valid))"
   ]
  },
  {
   "cell_type": "code",
   "execution_count": 14,
   "id": "e32c8f9f",
   "metadata": {},
   "outputs": [
    {
     "data": {
      "image/png": "[encoded data removed]",
      "text/plain": [
       "<IPython.core.display.Image object>"
      ]
     },
     "execution_count": 14,
     "metadata": {},
     "output_type": "execute_result"
    }
   ],
   "source": [
    "keras.utils.plot_model(model)"
   ]
  },
  {
   "cell_type": "code",
   "execution_count": 15,
   "id": "103f2ce3",
   "metadata": {},
   "outputs": [
    {
     "data": {
      "image/png": "[encoded data removed]",
      "text/plain": [
       "<Figure size 576x360 with 1 Axes>"
      ]
     },
     "metadata": {
      "needs_background": "light"
     },
     "output_type": "display_data"
    }
   ],
   "source": [
    "pd.DataFrame(model_history.history).plot(figsize=(8, 5))\n",
    "plt.grid(True)\n",
    "plt.gca().set_ylim(0, 1)\n",
    "plt.show()"
   ]
  },
  {
   "cell_type": "code",
   "execution_count": 16,
   "id": "8431f92f",
   "metadata": {},
   "outputs": [
    {
     "name": "stdout",
     "output_type": "stream",
     "text": [
      "313/313 [==============================] - 2s 5ms/step - loss: 0.2821 - accuracy: 0.8997\n"
     ]
    }
   ],
   "source": [
    "ev = model.evaluate(X_test_n, y_test)"
   ]
  },
  {
   "cell_type": "code",
   "execution_count": 17,
   "id": "d5f914ac",
   "metadata": {},
   "outputs": [
    {
     "data": {
      "text/plain": [
       "[0.2820536494255066, 0.8996999859809875]"
      ]
     },
     "execution_count": 17,
     "metadata": {},
     "output_type": "execute_result"
    }
   ],
   "source": [
    "ev"
   ]
  },
  {
   "cell_type": "code",
   "execution_count": 18,
   "id": "24431ba4",
   "metadata": {},
   "outputs": [],
   "source": [
    "X_new = X_test[:3]"
   ]
  },
  {
   "cell_type": "code",
   "execution_count": 19,
   "id": "0426fdd1",
   "metadata": {},
   "outputs": [
    {
     "name": "stderr",
     "output_type": "stream",
     "text": [
      "C:\\Users\\medin\\anaconda3\\lib\\site-packages\\tensorflow\\python\\keras\\engine\\sequential.py:455: UserWarning: `model.predict_classes()` is deprecated and will be removed after 2021-01-01. Please use instead:* `np.argmax(model.predict(x), axis=-1)`,   if your model does multi-class classification   (e.g. if it uses a `softmax` last-layer activation).* `(model.predict(x) > 0.5).astype(\"int32\")`,   if your model does binary classification   (e.g. if it uses a `sigmoid` last-layer activation).\n",
      "  warnings.warn('`model.predict_classes()` is deprecated and '\n"
     ]
    },
    {
     "data": {
      "text/plain": [
       "array([9, 2, 1], dtype=int64)"
      ]
     },
     "execution_count": 19,
     "metadata": {},
     "output_type": "execute_result"
    }
   ],
   "source": [
    "y_pred = model.predict_classes(X_new)\n",
    "y_pred"
   ]
  },
  {
   "cell_type": "code",
   "execution_count": 20,
   "id": "8806cd3e",
   "metadata": {},
   "outputs": [
    {
     "data": {
      "text/plain": [
       "array([9, 2, 1], dtype=uint8)"
      ]
     },
     "execution_count": 20,
     "metadata": {},
     "output_type": "execute_result"
    }
   ],
   "source": [
    "y_test[:3]"
   ]
  },
  {
   "cell_type": "code",
   "execution_count": 22,
   "id": "92ece2c4",
   "metadata": {},
   "outputs": [
    {
     "data": {
      "text/plain": [
       "array(['Ankle boot', 'Pullover', 'Trouser'], dtype='<U11')"
      ]
     },
     "execution_count": 22,
     "metadata": {},
     "output_type": "execute_result"
    }
   ],
   "source": [
    "np.array(class_names)[y_pred]"
   ]
  },
  {
   "cell_type": "code",
   "execution_count": 23,
   "id": "18b33172",
   "metadata": {},
   "outputs": [
    {
     "name": "stdout",
     "output_type": "stream",
     "text": [
      "AxesImage(54,36;334.8x217.44)\n"
     ]
    },
    {
     "data": {
      "image/png": "[encoded data removed]",
      "text/plain": [
       "<Figure size 432x288 with 1 Axes>"
      ]
     },
     "metadata": {
      "needs_background": "light"
     },
     "output_type": "display_data"
    }
   ],
   "source": [
    "print(plt.imshow(X_test[0].reshape((28,28))))"
   ]
  },
  {
   "cell_type": "code",
   "execution_count": 24,
   "id": "6f75fb19",
   "metadata": {},
   "outputs": [
    {
     "name": "stdout",
     "output_type": "stream",
     "text": [
      "AxesImage(54,36;334.8x217.44)\n"
     ]
    },
    {
     "data": {
      "image/png": "[encoded data removed]",
      "text/plain": [
       "<Figure size 432x288 with 1 Axes>"
      ]
     },
     "metadata": {
      "needs_background": "light"
     },
     "output_type": "display_data"
    }
   ],
   "source": [
    "print(plt.imshow(X_test[1].reshape((28,28))))"
   ]
  },
  {
   "cell_type": "code",
   "execution_count": 25,
   "id": "7c00df91",
   "metadata": {},
   "outputs": [
    {
     "name": "stdout",
     "output_type": "stream",
     "text": [
      "AxesImage(54,36;334.8x217.44)\n"
     ]
    },
    {
     "data": {
      "image/png": "[encoded data removed]",
      "text/plain": [
       "<Figure size 432x288 with 1 Axes>"
      ]
     },
     "metadata": {
      "needs_background": "light"
     },
     "output_type": "display_data"
    }
   ],
   "source": [
    "print(plt.imshow(X_test[2].reshape((28,28))))"
   ]
  },
  {
   "cell_type": "code",
   "execution_count": null,
   "id": "1364f943",
   "metadata": {},
   "outputs": [],
   "source": []
  }
 ],
 "metadata": {
  "kernelspec": {
   "display_name": "Python 3",
   "language": "python",
   "name": "python3"
  },
  "language_info": {
   "codemirror_mode": {
    "name": "ipython",
    "version": 3
   },
   "file_extension": ".py",
   "mimetype": "text/x-python",
   "name": "python",
   "nbconvert_exporter": "python",
   "pygments_lexer": "ipython3",
   "version": "3.8.8"
  }
 },
 "nbformat": 4,
 "nbformat_minor": 5
}
