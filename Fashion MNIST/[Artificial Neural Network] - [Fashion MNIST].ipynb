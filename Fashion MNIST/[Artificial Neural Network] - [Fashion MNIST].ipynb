{
 "cells": [
  {
   "cell_type": "code",
   "execution_count": 1,
   "id": "d93ca621",
   "metadata": {},
   "outputs": [],
   "source": [
    "import numpy as np\n",
    "import pandas as pd\n",
    "import matplotlib as mpl\n",
    "import matplotlib.pyplot as plt\n",
    "\n",
    "import tensorflow as tf\n",
    "from tensorflow import keras\n",
    "import pydot"
   ]
  },
  {
   "cell_type": "code",
   "execution_count": 2,
   "id": "c4ffaf2e",
   "metadata": {},
   "outputs": [
    {
     "data": {
      "text/plain": [
       "'2.5.0'"
      ]
     },
     "execution_count": 2,
     "metadata": {},
     "output_type": "execute_result"
    }
   ],
   "source": [
    "keras.__version__"
   ]
  },
  {
   "cell_type": "code",
   "execution_count": 3,
   "id": "8fb479e8",
   "metadata": {},
   "outputs": [
    {
     "data": {
      "text/plain": [
       "'2.5.0'"
      ]
     },
     "execution_count": 3,
     "metadata": {},
     "output_type": "execute_result"
    }
   ],
   "source": [
    "tf.__version__"
   ]
  },
  {
   "cell_type": "code",
   "execution_count": 4,
   "id": "1fd5b8d4",
   "metadata": {},
   "outputs": [],
   "source": [
    "fashion_mnist = tf.keras.datasets.fashion_mnist.load_data()"
   ]
  },
  {
   "cell_type": "code",
   "execution_count": 5,
   "id": "479e3b94",
   "metadata": {},
   "outputs": [],
   "source": [
    "(x_train, y_train), (x_test, y_test) = fashion_mnist"
   ]
  },
  {
   "cell_type": "code",
   "execution_count": 6,
   "id": "41260cd9",
   "metadata": {},
   "outputs": [
    {
     "data": {
      "text/plain": [
       "<matplotlib.image.AxesImage at 0x122fc9f4280>"
      ]
     },
     "execution_count": 6,
     "metadata": {},
     "output_type": "execute_result"
    },
    {
     "data": {
      "image/png": "[encoded data removed]",
      "text/plain": [
       "<Figure size 432x288 with 1 Axes>"
      ]
     },
     "metadata": {
      "needs_background": "light"
     },
     "output_type": "display_data"
    }
   ],
   "source": [
    "plt.imshow(x_train[5])"
   ]
  },
  {
   "cell_type": "code",
   "execution_count": 7,
   "id": "4f1eca08",
   "metadata": {},
   "outputs": [
    {
     "data": {
      "text/plain": [
       "array([[  0,   0,   0,   0,   1,   0,   0,   0,   0,  22,  88, 188, 172,\n",
       "        132, 125, 141, 199, 143,   9,   0,   0,   0,   1,   0,   0,   0,\n",
       "          0,   0],\n",
       "       [  0,   0,   0,   1,   0,   0,  20, 131, 199, 206, 196, 202, 242,\n",
       "        255, 255, 250, 222, 197, 206, 188, 126,  17,   0,   0,   0,   0,\n",
       "          0,   0],\n",
       "       [  0,   0,   0,   1,   0,  35, 214, 191, 183, 178, 175, 168, 150,\n",
       "        162, 159, 152, 158, 179, 183, 189, 195, 185,  82,   0,   0,   0,\n",
       "          0,   0],\n",
       "       [  0,   0,   0,   0,   0, 170, 190, 172, 177, 176, 171, 169, 162,\n",
       "        155, 148, 154, 169, 174, 175, 175, 177, 183, 188,  12,   0,   0,\n",
       "          0,   0],\n",
       "       [  0,   0,   0,   0,  25, 194, 180, 178, 174, 184, 187, 189, 187,\n",
       "        184, 181, 189, 200, 197, 193, 190, 178, 175, 194,  90,   0,   0,\n",
       "          0,   0],\n",
       "       [  0,   0,   0,   0,  42, 218, 191, 197, 208, 204, 211, 209, 210,\n",
       "        212, 211, 214, 215, 213, 214, 211, 211, 191, 200, 158,   0,   0,\n",
       "          0,   0],\n",
       "       [  0,   0,   0,   0,  88, 221, 215, 217, 219, 211, 185, 150, 118,\n",
       "        107,  99,  88,  83,  90, 135, 212, 203, 207, 219, 169,   0,   0,\n",
       "          0,   0],\n",
       "       [  0,   0,   0,   0,   0,  27, 118, 162,  40,   0,   0,   0,  10,\n",
       "         19,  28,  39,  47,  36,   0,   0, 203, 230, 220, 203,   0,   0,\n",
       "          0,   0],\n",
       "       [  0,   0,   0,   0, 138, 136,  71,  69,  54, 216, 217, 203, 184,\n",
       "        168, 163, 162, 163, 178, 221, 186,  38,  26,   7,   0,   0,   0,\n",
       "          0,   0],\n",
       "       [  0,   0,   0,   0,  67, 134, 154, 224, 129,  66,  81, 117, 129,\n",
       "        128, 132, 137, 131, 129,  86,  73, 157, 151, 134, 216,  18,   0,\n",
       "          0,   0],\n",
       "       [  0,   0,   0,   0, 203, 198, 172, 183, 206, 255, 255, 250, 243,\n",
       "        240, 239, 235, 238, 244, 255, 238, 184, 160,  86,  98,   0,   0,\n",
       "          0,   0],\n",
       "       [  0,   0,   0,   0, 122, 188, 224, 151, 105, 127,  97, 100, 105,\n",
       "        114, 117, 117, 113, 103,  98, 111, 142, 254, 191, 255,  49,   0,\n",
       "          0,   0],\n",
       "       [  0,   0,   0,   0, 163, 179, 200,  95, 154, 198, 197, 200, 200,\n",
       "        198, 197, 198, 199, 202, 200, 176,  86, 206, 157, 162,  10,   0,\n",
       "          0,   0],\n",
       "       [  0,   0,   0,   0, 197, 201, 229,  71, 144, 194, 181, 183, 179,\n",
       "        182, 180, 179, 180, 190, 185, 197,  76, 219, 185, 201,  34,   0,\n",
       "          0,   0],\n",
       "       [  0,   0,   0,   0, 199, 193, 226,  58, 154, 192, 184, 187, 184,\n",
       "        186, 184, 185, 183, 192, 191, 200,  56, 219, 203, 207,  60,   0,\n",
       "          0,   0],\n",
       "       [  0,   0,   0,   0, 201, 194, 224,  41, 163, 190, 186, 186, 184,\n",
       "        185, 183, 185, 178, 190, 194, 202,  33, 211, 200, 206,  73,   0,\n",
       "          0,   0],\n",
       "       [  0,   0,   0,   0, 201, 197, 222,  17, 172, 190, 186, 187, 182,\n",
       "        186, 185, 187, 180, 187, 193, 202,  26, 212, 202, 203,  76,   0,\n",
       "          0,   0],\n",
       "       [  0,   0,   0,   0, 200, 197, 223,   0, 177, 189, 184, 185, 178,\n",
       "        184, 183, 184, 180, 183, 189, 203,  35, 196, 203, 203,  84,   0,\n",
       "          0,   0],\n",
       "       [  0,   0,   0,   0, 200, 197, 223,   0, 185, 187, 185, 187, 180,\n",
       "        184, 182, 183, 178, 182, 183, 205,  44, 159, 207, 201,  85,   0,\n",
       "          0,   0],\n",
       "       [  0,   0,   0,   0, 187, 198, 225,   0, 194, 188, 184, 185, 180,\n",
       "        183, 183, 184, 181, 181, 177, 206,  46, 129, 211, 200,  88,   0,\n",
       "          0,   0],\n",
       "       [  0,   0,   0,   6, 186, 200, 211,   0, 199, 189, 184, 184, 185,\n",
       "        182, 183, 184, 185, 182, 175, 205,  50,  97, 216, 197,  93,   0,\n",
       "          0,   0],\n",
       "       [  0,   0,   0,   5, 185, 204, 184,   0, 202, 188, 182, 182, 183,\n",
       "        183, 184, 182, 180, 182, 174, 202,  63,  59, 220, 196,  94,   0,\n",
       "          0,   0],\n",
       "       [  0,   0,   0,   5, 184, 206, 157,   0, 204, 187, 187, 189, 192,\n",
       "        190, 190, 191, 190, 187, 183, 202,  78,  35, 222, 197,  95,   0,\n",
       "          0,   0],\n",
       "       [  0,   0,   0,   5, 183, 208, 127,   0, 197, 166, 153, 149, 149,\n",
       "        146, 148, 149, 150, 151, 158, 191,  90,   8, 223, 195,  99,   0,\n",
       "          0,   0],\n",
       "       [  0,   0,   0,   6, 184, 208, 114,   0, 204, 173, 161, 180, 176,\n",
       "        172, 173, 173, 174, 176, 162, 202, 115,   0, 229, 199, 105,   0,\n",
       "          0,   0],\n",
       "       [  0,   0,   0,   9, 178, 204, 115,   0, 121, 135, 114, 117, 114,\n",
       "        114, 117, 118, 119, 117, 113, 147,  63,   0, 225, 196, 107,   0,\n",
       "          0,   0],\n",
       "       [  0,   0,   0,  18, 180, 206, 131,   0,   0,   0,   0,   0,   0,\n",
       "          0,   0,   0,   0,   0,   0,   0,   0,   0, 224, 197, 123,   0,\n",
       "          0,   0],\n",
       "       [  0,   0,   0,   0, 141, 151,  76,   0,   1,   1,   0,   0,   0,\n",
       "          0,   0,   0,   0,   0,   0,   0,   0,   0, 133, 167,  73,   0,\n",
       "          0,   0]], dtype=uint8)"
      ]
     },
     "execution_count": 7,
     "metadata": {},
     "output_type": "execute_result"
    }
   ],
   "source": [
    "x_train[5]"
   ]
  },
  {
   "cell_type": "code",
   "execution_count": 8,
   "id": "bffd5d60",
   "metadata": {},
   "outputs": [
    {
     "data": {
      "text/plain": [
       "2"
      ]
     },
     "execution_count": 8,
     "metadata": {},
     "output_type": "execute_result"
    }
   ],
   "source": [
    "y_train[5]"
   ]
  },
  {
   "cell_type": "code",
   "execution_count": 9,
   "id": "b39db2be",
   "metadata": {},
   "outputs": [],
   "source": [
    "class_names = [\"T-shirt/top\", \"Trouser\", \"Pullover\", \"Dress\", \"Coat\", \"Sandal\", \"Shirt\", \"Sneaker\", \"Bag\", \"Ankle boot\"]"
   ]
  },
  {
   "cell_type": "code",
   "execution_count": 10,
   "id": "1ed53bd5",
   "metadata": {},
   "outputs": [
    {
     "data": {
      "text/plain": [
       "'Pullover'"
      ]
     },
     "execution_count": 10,
     "metadata": {},
     "output_type": "execute_result"
    }
   ],
   "source": [
    "class_names[y_train[5]]"
   ]
  },
  {
   "cell_type": "code",
   "execution_count": 11,
   "id": "a903c2a0",
   "metadata": {},
   "outputs": [],
   "source": [
    "normalized_x_train = x_train / 255.0\n",
    "normalized_x_test = x_test / 255.0"
   ]
  },
  {
   "cell_type": "code",
   "execution_count": 12,
   "id": "521db62e",
   "metadata": {},
   "outputs": [],
   "source": [
    "x_validation, x_training = normalized_x_train[:5000], normalized_x_train[5000:]\n",
    "y_validation, y_training = y_train[:5000], y_train[5000:]\n",
    "x_testing = normalized_x_test"
   ]
  },
  {
   "cell_type": "code",
   "execution_count": 13,
   "id": "67234994",
   "metadata": {},
   "outputs": [],
   "source": [
    "np.random.seed(42)\n",
    "tf.random.set_seed(42)"
   ]
  },
  {
   "cell_type": "code",
   "execution_count": 14,
   "id": "dd6ec9d9",
   "metadata": {},
   "outputs": [],
   "source": [
    "model = keras.models.Sequential()\n",
    "model.add(keras.layers.Flatten(input_shape=[28, 28]))\n",
    "model.add(keras.layers.Dense(300, activation=\"relu\"))\n",
    "model.add(keras.layers.Dense(100, activation=\"relu\"))\n",
    "model.add(keras.layers.Dense(10, activation=\"softmax\"))"
   ]
  },
  {
   "cell_type": "code",
   "execution_count": 15,
   "id": "4b5c3437",
   "metadata": {},
   "outputs": [
    {
     "name": "stdout",
     "output_type": "stream",
     "text": [
      "Model: \"sequential\"\n",
      "_________________________________________________________________\n",
      "Layer (type)                 Output Shape              Param #   \n",
      "=================================================================\n",
      "flatten (Flatten)            (None, 784)               0         \n",
      "_________________________________________________________________\n",
      "dense (Dense)                (None, 300)               235500    \n",
      "_________________________________________________________________\n",
      "dense_1 (Dense)              (None, 100)               30100     \n",
      "_________________________________________________________________\n",
      "dense_2 (Dense)              (None, 10)                1010      \n",
      "=================================================================\n",
      "Total params: 266,610\n",
      "Trainable params: 266,610\n",
      "Non-trainable params: 0\n",
      "_________________________________________________________________\n"
     ]
    }
   ],
   "source": [
    "model.summary()"
   ]
  },
  {
   "cell_type": "code",
   "execution_count": 16,
   "id": "041c256d",
   "metadata": {},
   "outputs": [
    {
     "data": {
      "image/png": "[encoded data removed]",
      "text/plain": [
       "<IPython.core.display.Image object>"
      ]
     },
     "execution_count": 16,
     "metadata": {},
     "output_type": "execute_result"
    }
   ],
   "source": [
    "keras.utils.plot_model(model)"
   ]
  },
  {
   "cell_type": "code",
   "execution_count": 17,
   "id": "4ac4950f",
   "metadata": {},
   "outputs": [],
   "source": [
    "weights, biases = model.layers[1].get_weights()"
   ]
  },
  {
   "cell_type": "code",
   "execution_count": 18,
   "id": "7a2a479f",
   "metadata": {},
   "outputs": [
    {
     "data": {
      "text/plain": [
       "array([[ 0.02448617, -0.00877795, -0.02189048, ..., -0.02766046,\n",
       "         0.03859074, -0.06889391],\n",
       "       [ 0.00476504, -0.03105379, -0.0586676 , ...,  0.00602964,\n",
       "        -0.02763776, -0.04165364],\n",
       "       [-0.06189284, -0.06901957,  0.07102345, ..., -0.04238207,\n",
       "         0.07121518, -0.07331658],\n",
       "       ...,\n",
       "       [-0.03048757,  0.02155137, -0.05400612, ..., -0.00113463,\n",
       "         0.00228987,  0.05581069],\n",
       "       [ 0.07061854, -0.06960931,  0.07038955, ..., -0.00384101,\n",
       "         0.00034875,  0.02878492],\n",
       "       [-0.06022581,  0.01577859, -0.02585464, ..., -0.00527829,\n",
       "         0.00272203, -0.06793761]], dtype=float32)"
      ]
     },
     "execution_count": 18,
     "metadata": {},
     "output_type": "execute_result"
    }
   ],
   "source": [
    "weights"
   ]
  },
  {
   "cell_type": "code",
   "execution_count": 19,
   "id": "613885e0",
   "metadata": {},
   "outputs": [
    {
     "data": {
      "text/plain": [
       "array([0., 0., 0., 0., 0., 0., 0., 0., 0., 0., 0., 0., 0., 0., 0., 0., 0.,\n",
       "       0., 0., 0., 0., 0., 0., 0., 0., 0., 0., 0., 0., 0., 0., 0., 0., 0.,\n",
       "       0., 0., 0., 0., 0., 0., 0., 0., 0., 0., 0., 0., 0., 0., 0., 0., 0.,\n",
       "       0., 0., 0., 0., 0., 0., 0., 0., 0., 0., 0., 0., 0., 0., 0., 0., 0.,\n",
       "       0., 0., 0., 0., 0., 0., 0., 0., 0., 0., 0., 0., 0., 0., 0., 0., 0.,\n",
       "       0., 0., 0., 0., 0., 0., 0., 0., 0., 0., 0., 0., 0., 0., 0., 0., 0.,\n",
       "       0., 0., 0., 0., 0., 0., 0., 0., 0., 0., 0., 0., 0., 0., 0., 0., 0.,\n",
       "       0., 0., 0., 0., 0., 0., 0., 0., 0., 0., 0., 0., 0., 0., 0., 0., 0.,\n",
       "       0., 0., 0., 0., 0., 0., 0., 0., 0., 0., 0., 0., 0., 0., 0., 0., 0.,\n",
       "       0., 0., 0., 0., 0., 0., 0., 0., 0., 0., 0., 0., 0., 0., 0., 0., 0.,\n",
       "       0., 0., 0., 0., 0., 0., 0., 0., 0., 0., 0., 0., 0., 0., 0., 0., 0.,\n",
       "       0., 0., 0., 0., 0., 0., 0., 0., 0., 0., 0., 0., 0., 0., 0., 0., 0.,\n",
       "       0., 0., 0., 0., 0., 0., 0., 0., 0., 0., 0., 0., 0., 0., 0., 0., 0.,\n",
       "       0., 0., 0., 0., 0., 0., 0., 0., 0., 0., 0., 0., 0., 0., 0., 0., 0.,\n",
       "       0., 0., 0., 0., 0., 0., 0., 0., 0., 0., 0., 0., 0., 0., 0., 0., 0.,\n",
       "       0., 0., 0., 0., 0., 0., 0., 0., 0., 0., 0., 0., 0., 0., 0., 0., 0.,\n",
       "       0., 0., 0., 0., 0., 0., 0., 0., 0., 0., 0., 0., 0., 0., 0., 0., 0.,\n",
       "       0., 0., 0., 0., 0., 0., 0., 0., 0., 0., 0.], dtype=float32)"
      ]
     },
     "execution_count": 19,
     "metadata": {},
     "output_type": "execute_result"
    }
   ],
   "source": [
    "biases"
   ]
  },
  {
   "cell_type": "code",
   "execution_count": 20,
   "id": "2954087b",
   "metadata": {},
   "outputs": [
    {
     "data": {
      "text/plain": [
       "(784, 300)"
      ]
     },
     "execution_count": 20,
     "metadata": {},
     "output_type": "execute_result"
    }
   ],
   "source": [
    "weights.shape"
   ]
  },
  {
   "cell_type": "code",
   "execution_count": 21,
   "id": "249d9397",
   "metadata": {},
   "outputs": [
    {
     "data": {
      "text/plain": [
       "(300,)"
      ]
     },
     "execution_count": 21,
     "metadata": {},
     "output_type": "execute_result"
    }
   ],
   "source": [
    "biases.shape"
   ]
  },
  {
   "cell_type": "code",
   "execution_count": 22,
   "id": "ad866994",
   "metadata": {},
   "outputs": [],
   "source": [
    "model.compile(loss=\"sparse_categorical_crossentropy\",\n",
    "              optimizer=\"sgd\",\n",
    "              metrics=[\"accuracy\"])"
   ]
  },
  {
   "cell_type": "code",
   "execution_count": 23,
   "id": "21c8d03a",
   "metadata": {},
   "outputs": [
    {
     "name": "stdout",
     "output_type": "stream",
     "text": [
      "Epoch 1/30\n",
      "1719/1719 [==============================] - 5s 3ms/step - loss: 0.7237 - accuracy: 0.7644 - val_loss: 0.5207 - val_accuracy: 0.8234\n",
      "Epoch 2/30\n",
      "1719/1719 [==============================] - 4s 2ms/step - loss: 0.4843 - accuracy: 0.8318 - val_loss: 0.4345 - val_accuracy: 0.8538\n",
      "Epoch 3/30\n",
      "1719/1719 [==============================] - 4s 3ms/step - loss: 0.4393 - accuracy: 0.8454 - val_loss: 0.5330 - val_accuracy: 0.7980\n",
      "Epoch 4/30\n",
      "1719/1719 [==============================] - 4s 2ms/step - loss: 0.4125 - accuracy: 0.8569 - val_loss: 0.3915 - val_accuracy: 0.8644\n",
      "Epoch 5/30\n",
      "1719/1719 [==============================] - 4s 3ms/step - loss: 0.3940 - accuracy: 0.8619 - val_loss: 0.3748 - val_accuracy: 0.8690\n",
      "Epoch 6/30\n",
      "1719/1719 [==============================] - 4s 3ms/step - loss: 0.3752 - accuracy: 0.8674 - val_loss: 0.3707 - val_accuracy: 0.8722\n",
      "Epoch 7/30\n",
      "1719/1719 [==============================] - 4s 2ms/step - loss: 0.3633 - accuracy: 0.8714 - val_loss: 0.3627 - val_accuracy: 0.8722\n",
      "Epoch 8/30\n",
      "1719/1719 [==============================] - 4s 2ms/step - loss: 0.3519 - accuracy: 0.8750 - val_loss: 0.3842 - val_accuracy: 0.8630\n",
      "Epoch 9/30\n",
      "1719/1719 [==============================] - 4s 2ms/step - loss: 0.3416 - accuracy: 0.8785 - val_loss: 0.3598 - val_accuracy: 0.8704\n",
      "Epoch 10/30\n",
      "1719/1719 [==============================] - 4s 2ms/step - loss: 0.3322 - accuracy: 0.8825 - val_loss: 0.3432 - val_accuracy: 0.8770\n",
      "Epoch 11/30\n",
      "1719/1719 [==============================] - 5s 3ms/step - loss: 0.3243 - accuracy: 0.8830 - val_loss: 0.3438 - val_accuracy: 0.8780\n",
      "Epoch 12/30\n",
      "1719/1719 [==============================] - 4s 3ms/step - loss: 0.3151 - accuracy: 0.8868 - val_loss: 0.3305 - val_accuracy: 0.8814\n",
      "Epoch 13/30\n",
      "1719/1719 [==============================] - 4s 3ms/step - loss: 0.3082 - accuracy: 0.8890 - val_loss: 0.3263 - val_accuracy: 0.8878\n",
      "Epoch 14/30\n",
      "1719/1719 [==============================] - 5s 3ms/step - loss: 0.3023 - accuracy: 0.8916 - val_loss: 0.3397 - val_accuracy: 0.8776\n",
      "Epoch 15/30\n",
      "1719/1719 [==============================] - 4s 2ms/step - loss: 0.2948 - accuracy: 0.8940 - val_loss: 0.3217 - val_accuracy: 0.8848\n",
      "Epoch 16/30\n",
      "1719/1719 [==============================] - 4s 2ms/step - loss: 0.2893 - accuracy: 0.8970 - val_loss: 0.3094 - val_accuracy: 0.8894\n",
      "Epoch 17/30\n",
      "1719/1719 [==============================] - 4s 2ms/step - loss: 0.2841 - accuracy: 0.8977 - val_loss: 0.3565 - val_accuracy: 0.8730\n",
      "Epoch 18/30\n",
      "1719/1719 [==============================] - 4s 3ms/step - loss: 0.2779 - accuracy: 0.9001 - val_loss: 0.3135 - val_accuracy: 0.8896\n",
      "Epoch 19/30\n",
      "1719/1719 [==============================] - 4s 2ms/step - loss: 0.2730 - accuracy: 0.9022 - val_loss: 0.3114 - val_accuracy: 0.8898\n",
      "Epoch 20/30\n",
      "1719/1719 [==============================] - 5s 3ms/step - loss: 0.2676 - accuracy: 0.9034 - val_loss: 0.3270 - val_accuracy: 0.8820\n",
      "Epoch 21/30\n",
      "1719/1719 [==============================] - 5s 3ms/step - loss: 0.2626 - accuracy: 0.9056 - val_loss: 0.3058 - val_accuracy: 0.8924\n",
      "Epoch 22/30\n",
      "1719/1719 [==============================] - 4s 3ms/step - loss: 0.2578 - accuracy: 0.9075 - val_loss: 0.2971 - val_accuracy: 0.8968\n",
      "Epoch 23/30\n",
      "1719/1719 [==============================] - 4s 3ms/step - loss: 0.2537 - accuracy: 0.9080 - val_loss: 0.2980 - val_accuracy: 0.8922\n",
      "Epoch 24/30\n",
      "1719/1719 [==============================] - 5s 3ms/step - loss: 0.2487 - accuracy: 0.9104 - val_loss: 0.3082 - val_accuracy: 0.8880\n",
      "Epoch 25/30\n",
      "1719/1719 [==============================] - 4s 2ms/step - loss: 0.2444 - accuracy: 0.9124 - val_loss: 0.2983 - val_accuracy: 0.8942\n",
      "Epoch 26/30\n",
      "1719/1719 [==============================] - 4s 2ms/step - loss: 0.2408 - accuracy: 0.9135 - val_loss: 0.3061 - val_accuracy: 0.8896\n",
      "Epoch 27/30\n",
      "1719/1719 [==============================] - 4s 3ms/step - loss: 0.2365 - accuracy: 0.9154 - val_loss: 0.3042 - val_accuracy: 0.8944\n",
      "Epoch 28/30\n",
      "1719/1719 [==============================] - 4s 2ms/step - loss: 0.2329 - accuracy: 0.9164 - val_loss: 0.2996 - val_accuracy: 0.8920\n",
      "Epoch 29/30\n",
      "1719/1719 [==============================] - 4s 2ms/step - loss: 0.2285 - accuracy: 0.9182 - val_loss: 0.3059 - val_accuracy: 0.8908\n",
      "Epoch 30/30\n",
      "1719/1719 [==============================] - 4s 3ms/step - loss: 0.2253 - accuracy: 0.9193 - val_loss: 0.3027 - val_accuracy: 0.8920\n"
     ]
    }
   ],
   "source": [
    "model_history = model.fit(x_training, y_training, epochs=30,\n",
    "                    validation_data=(x_validation, y_validation))"
   ]
  },
  {
   "cell_type": "code",
   "execution_count": 27,
   "id": "c7e53335",
   "metadata": {},
   "outputs": [
    {
     "data": {
      "text/plain": [
       "{'verbose': 1, 'epochs': 30, 'steps': 1719}"
      ]
     },
     "execution_count": 27,
     "metadata": {},
     "output_type": "execute_result"
    }
   ],
   "source": [
    "model_history.params"
   ]
  },
  {
   "cell_type": "code",
   "execution_count": 25,
   "id": "b28e671c",
   "metadata": {},
   "outputs": [
    {
     "data": {
      "text/plain": [
       "{'loss': [0.7236780524253845,\n",
       "  0.4843233525753021,\n",
       "  0.43925395607948303,\n",
       "  0.41249433159828186,\n",
       "  0.39395850896835327,\n",
       "  0.37522026896476746,\n",
       "  0.36334460973739624,\n",
       "  0.35189977288246155,\n",
       "  0.3415890038013458,\n",
       "  0.33219200372695923,\n",
       "  0.32431620359420776,\n",
       "  0.31506234407424927,\n",
       "  0.30816128849983215,\n",
       "  0.3023137152194977,\n",
       "  0.29484379291534424,\n",
       "  0.289277583360672,\n",
       "  0.2841065526008606,\n",
       "  0.277920126914978,\n",
       "  0.27297961711883545,\n",
       "  0.26764771342277527,\n",
       "  0.26259559392929077,\n",
       "  0.2577607333660126,\n",
       "  0.253675252199173,\n",
       "  0.24865274131298065,\n",
       "  0.24440625309944153,\n",
       "  0.24075055122375488,\n",
       "  0.23647968471050262,\n",
       "  0.23291146755218506,\n",
       "  0.22853097319602966,\n",
       "  0.22528870403766632],\n",
       " 'accuracy': [0.7644181847572327,\n",
       "  0.8317636251449585,\n",
       "  0.8453817963600159,\n",
       "  0.8568727374076843,\n",
       "  0.8618909120559692,\n",
       "  0.8673818111419678,\n",
       "  0.871399998664856,\n",
       "  0.875,\n",
       "  0.8785272836685181,\n",
       "  0.8825091123580933,\n",
       "  0.8830181956291199,\n",
       "  0.8867999911308289,\n",
       "  0.889018177986145,\n",
       "  0.8916181921958923,\n",
       "  0.893963634967804,\n",
       "  0.8969636559486389,\n",
       "  0.8976545333862305,\n",
       "  0.9000909328460693,\n",
       "  0.9021818041801453,\n",
       "  0.9034000039100647,\n",
       "  0.9055818319320679,\n",
       "  0.9075272679328918,\n",
       "  0.907981812953949,\n",
       "  0.9104363918304443,\n",
       "  0.9124363660812378,\n",
       "  0.9134727120399475,\n",
       "  0.915363609790802,\n",
       "  0.9163636565208435,\n",
       "  0.918181836605072,\n",
       "  0.9192909002304077],\n",
       " 'val_loss': [0.5206756591796875,\n",
       "  0.43450361490249634,\n",
       "  0.5330292582511902,\n",
       "  0.391543447971344,\n",
       "  0.374805212020874,\n",
       "  0.3706672489643097,\n",
       "  0.36266204714775085,\n",
       "  0.38417407870292664,\n",
       "  0.35976341366767883,\n",
       "  0.34315529465675354,\n",
       "  0.34380123019218445,\n",
       "  0.3304961919784546,\n",
       "  0.32629290223121643,\n",
       "  0.3397334814071655,\n",
       "  0.32173413038253784,\n",
       "  0.3094216287136078,\n",
       "  0.3565293252468109,\n",
       "  0.31350135803222656,\n",
       "  0.3113585114479065,\n",
       "  0.32696688175201416,\n",
       "  0.3057759702205658,\n",
       "  0.29714417457580566,\n",
       "  0.29797956347465515,\n",
       "  0.30816563963890076,\n",
       "  0.2983236014842987,\n",
       "  0.306073397397995,\n",
       "  0.30421584844589233,\n",
       "  0.29962167143821716,\n",
       "  0.30589476227760315,\n",
       "  0.302684485912323],\n",
       " 'val_accuracy': [0.8234000205993652,\n",
       "  0.8537999987602234,\n",
       "  0.7979999780654907,\n",
       "  0.8644000291824341,\n",
       "  0.8690000176429749,\n",
       "  0.8722000122070312,\n",
       "  0.8722000122070312,\n",
       "  0.8629999756813049,\n",
       "  0.8704000115394592,\n",
       "  0.8769999742507935,\n",
       "  0.878000020980835,\n",
       "  0.8813999891281128,\n",
       "  0.8877999782562256,\n",
       "  0.8776000142097473,\n",
       "  0.8848000168800354,\n",
       "  0.8894000053405762,\n",
       "  0.8730000257492065,\n",
       "  0.8895999789237976,\n",
       "  0.8898000121116638,\n",
       "  0.8820000290870667,\n",
       "  0.8924000263214111,\n",
       "  0.8967999815940857,\n",
       "  0.8921999931335449,\n",
       "  0.8880000114440918,\n",
       "  0.8942000269889832,\n",
       "  0.8895999789237976,\n",
       "  0.8944000005722046,\n",
       "  0.8920000195503235,\n",
       "  0.8907999992370605,\n",
       "  0.8920000195503235]}"
      ]
     },
     "execution_count": 25,
     "metadata": {},
     "output_type": "execute_result"
    }
   ],
   "source": [
    "model_history.history"
   ]
  },
  {
   "cell_type": "code",
   "execution_count": 26,
   "id": "0e1f6cb3",
   "metadata": {},
   "outputs": [
    {
     "data": {
      "image/png": "[encoded data removed]",
      "text/plain": [
       "<Figure size 576x360 with 1 Axes>"
      ]
     },
     "metadata": {
      "needs_background": "light"
     },
     "output_type": "display_data"
    }
   ],
   "source": [
    "pd.DataFrame(model_history.history).plot(figsize=(8, 5))\n",
    "plt.grid(True)\n",
    "plt.gca().set_ylim(0, 1)\n",
    "plt.show()"
   ]
  },
  {
   "cell_type": "code",
   "execution_count": 30,
   "id": "c41f0222",
   "metadata": {},
   "outputs": [
    {
     "name": "stdout",
     "output_type": "stream",
     "text": [
      "313/313 [==============================] - 1s 2ms/step - loss: 0.3361 - accuracy: 0.8834\n"
     ]
    },
    {
     "data": {
      "text/plain": [
       "[0.3360535800457001, 0.883400022983551]"
      ]
     },
     "execution_count": 30,
     "metadata": {},
     "output_type": "execute_result"
    }
   ],
   "source": [
    "model.evaluate(x_testing, y_test)"
   ]
  },
  {
   "cell_type": "code",
   "execution_count": 37,
   "id": "6fca477c",
   "metadata": {},
   "outputs": [],
   "source": [
    "X_new = x_testing[:3]"
   ]
  },
  {
   "cell_type": "code",
   "execution_count": 38,
   "id": "cc618e79",
   "metadata": {},
   "outputs": [
    {
     "data": {
      "text/plain": [
       "array([[0.  , 0.  , 0.  , 0.  , 0.  , 0.01, 0.  , 0.03, 0.  , 0.96],\n",
       "       [0.  , 0.  , 0.99, 0.  , 0.01, 0.  , 0.  , 0.  , 0.  , 0.  ],\n",
       "       [0.  , 1.  , 0.  , 0.  , 0.  , 0.  , 0.  , 0.  , 0.  , 0.  ]],\n",
       "      dtype=float32)"
      ]
     },
     "execution_count": 38,
     "metadata": {},
     "output_type": "execute_result"
    }
   ],
   "source": [
    "y_proba = model.predict(X_new)\n",
    "y_proba.round(2)"
   ]
  },
  {
   "cell_type": "code",
   "execution_count": 33,
   "id": "5587d135",
   "metadata": {},
   "outputs": [
    {
     "name": "stderr",
     "output_type": "stream",
     "text": [
      "C:\\Users\\medin\\anaconda3\\lib\\site-packages\\tensorflow\\python\\keras\\engine\\sequential.py:455: UserWarning: `model.predict_classes()` is deprecated and will be removed after 2021-01-01. Please use instead:* `np.argmax(model.predict(x), axis=-1)`,   if your model does multi-class classification   (e.g. if it uses a `softmax` last-layer activation).* `(model.predict(x) > 0.5).astype(\"int32\")`,   if your model does binary classification   (e.g. if it uses a `sigmoid` last-layer activation).\n",
      "  warnings.warn('`model.predict_classes()` is deprecated and '\n"
     ]
    },
    {
     "data": {
      "text/plain": [
       "array([9, 2, 1], dtype=int64)"
      ]
     },
     "execution_count": 33,
     "metadata": {},
     "output_type": "execute_result"
    }
   ],
   "source": [
    "y_pred = model.predict_classes(X_new)\n",
    "y_pred"
   ]
  },
  {
   "cell_type": "code",
   "execution_count": 34,
   "id": "0ae3f7b4",
   "metadata": {},
   "outputs": [
    {
     "data": {
      "text/plain": [
       "array(['Ankle boot', 'Pullover', 'Trouser'], dtype='<U11')"
      ]
     },
     "execution_count": 34,
     "metadata": {},
     "output_type": "execute_result"
    }
   ],
   "source": [
    "np.array(class_names)[y_pred]"
   ]
  },
  {
   "cell_type": "code",
   "execution_count": 40,
   "id": "1d88ff47",
   "metadata": {},
   "outputs": [
    {
     "name": "stdout",
     "output_type": "stream",
     "text": [
      "AxesImage(54,36;334.8x217.44)\n"
     ]
    },
    {
     "data": {
      "image/png": "[encoded data removed]",
      "text/plain": [
       "<Figure size 432x288 with 1 Axes>"
      ]
     },
     "metadata": {
      "needs_background": "light"
     },
     "output_type": "display_data"
    }
   ],
   "source": [
    "print(plt.imshow(x_testing[0]))"
   ]
  },
  {
   "cell_type": "code",
   "execution_count": 41,
   "id": "cfcb8025",
   "metadata": {},
   "outputs": [
    {
     "name": "stdout",
     "output_type": "stream",
     "text": [
      "AxesImage(54,36;334.8x217.44)\n"
     ]
    },
    {
     "data": {
      "image/png": "[encoded data removed]",
      "text/plain": [
       "<Figure size 432x288 with 1 Axes>"
      ]
     },
     "metadata": {
      "needs_background": "light"
     },
     "output_type": "display_data"
    }
   ],
   "source": [
    "print(plt.imshow(x_testing[1]))"
   ]
  },
  {
   "cell_type": "code",
   "execution_count": 42,
   "id": "66d1fe4a",
   "metadata": {},
   "outputs": [
    {
     "name": "stdout",
     "output_type": "stream",
     "text": [
      "AxesImage(54,36;334.8x217.44)\n"
     ]
    },
    {
     "data": {
      "image/png": "[encoded data removed]",
      "text/plain": [
       "<Figure size 432x288 with 1 Axes>"
      ]
     },
     "metadata": {
      "needs_background": "light"
     },
     "output_type": "display_data"
    }
   ],
   "source": [
    "print(plt.imshow(x_testing[3]))"
   ]
  },
  {
   "cell_type": "code",
   "execution_count": null,
   "id": "b2f9676e",
   "metadata": {},
   "outputs": [],
   "source": []
  }
 ],
 "metadata": {
  "kernelspec": {
   "display_name": "Python 3",
   "language": "python",
   "name": "python3"
  },
  "language_info": {
   "codemirror_mode": {
    "name": "ipython",
    "version": 3
   },
   "file_extension": ".py",
   "mimetype": "text/x-python",
   "name": "python",
   "nbconvert_exporter": "python",
   "pygments_lexer": "ipython3",
   "version": "3.8.8"
  }
 },
 "nbformat": 4,
 "nbformat_minor": 5
}
